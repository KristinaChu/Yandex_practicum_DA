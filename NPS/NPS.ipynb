{
 "cells": [
  {
   "cell_type": "markdown",
   "id": "b007fdcb",
   "metadata": {},
   "source": [
    "<div style=\"border-radius: 10px; box-shadow: 0px 0px 2px; border: 1px solid; background:#eaeaea; position: relative; padding: 10px; padding-left: 10px;\">\n",
    "<h7 style=\"color:black; margin-bottom:20px\"> \n",
    "\n",
    "# <span style=\"color:#143a51\">Определение уровня потребительской лояльности<span> \n",
    "    \n",
    "---\n",
    "---   \n",
    "    \n",
    "**Цель:**\n",
    "необходимо для большой телекоммуникационной компании интерпретировать результаты NPS-опросов, выявить наиболее лояльных пользователей.  \n",
    "--- \n",
    "[Ссылка на дашборд](https://public.tableau.com/app/profile/kristina2465/viz/__16760144028600/Dashboard5)\n",
    "    \n",
    "[Ссылка на презентацию](https://disk.yandex.ru/i/JHlFL26Py6GPXA)\n",
    "\n",
    "**`Витрина данных:`**\n",
    "\n",
    "`user_id` - идентификатор клиента    \n",
    "`lt_day` - количество дней «жизни» клиента    \n",
    "`is_new` - поле хранит информацию о том, является ли клиент новым    \n",
    "`age` -\tвозраст    \n",
    "`gender_segment` - пол (для удобства работы с полем преобразуйте значения в текстовый вид) `os_name` -\tтип операционной системы  \n",
    "`cpe_type_name` - тип устройства     \n",
    "`country` -\tстрана проживания     \n",
    "`city` - город проживания    \n",
    "`age_segment` -\tвозрастной сегмент    \n",
    "`traffic_segment`  - сегмент по объёму потребляемого трафика   \n",
    "`lifetime_segment` - сегмент по количеству дней «жизни»   \n",
    "`nps_score` - оценка клиента в NPS-опросе    \n",
    "`nps_group` - поле хранит информацию о том, к какой группе относится оценка клиента в опросе   \n"
   ]
  },
  {
   "cell_type": "code",
   "execution_count": 1,
   "id": "cb83c48b",
   "metadata": {
    "tags": [
     "aa81075c-062f-4de0-b5fe-14c73dc7468e"
    ]
   },
   "outputs": [],
   "source": [
    "# импортируем библиотеки\n",
    "import pandas as pd\n",
    "import numpy as np\n",
    "from sqlalchemy import create_engine"
   ]
  },
  {
   "cell_type": "code",
   "execution_count": 2,
   "id": "0ce98837",
   "metadata": {},
   "outputs": [],
   "source": [
    "# параметры подключения\n",
    "path_to_db = '/datasets/telecomm_csi.db'\n",
    "engine = create_engine(f'sqlite:///{path_to_db}', echo = False)"
   ]
  },
  {
   "cell_type": "code",
   "execution_count": 3,
   "id": "9a5e91ff",
   "metadata": {},
   "outputs": [],
   "source": [
    "# запрос для витрины данных, в дальнейшем используемой для создания дашборда\n",
    "query = \"\"\"\n",
    "SELECT user_id,\n",
    "       lt_day,\n",
    "       CASE\n",
    "           WHEN lt_day <= 365 THEN 'новый пользователь'\n",
    "           WHEN lt_day > 365 THEN 'старый пользователь'\n",
    "       END AS is_new,\n",
    "       age,\n",
    "       CASE \n",
    "           WHEN gender_segment = 1 THEN 'жен'\n",
    "           WHEN gender_segment = 0 THEN 'муж'\n",
    "       END AS gender_segment,\n",
    "       os_name,\n",
    "       cpe_type_name,\n",
    "       l.country,\n",
    "       l.city,\n",
    "       a.title AS age_segment,\n",
    "       t.title AS traffic_segment,\n",
    "       li.title AS lifetime_segment,\n",
    "       nps_score,\n",
    "       CASE\n",
    "           WHEN nps_score >= 9 THEN 'сторонники'\n",
    "           WHEN nps_score <= 6 THEN 'критики'\n",
    "           WHEN 6 < nps_score < 9 THEN 'нейтралы'\n",
    "       END AS nps_group\n",
    "       \n",
    "FROM user AS u\n",
    "LEFT JOIN location AS l ON u.location_id = l.location_id\n",
    "LEFT JOIN age_segment AS a ON u.age_gr_id = a.age_gr_id\n",
    "LEFT JOIN traffic_segment AS t ON u.tr_gr_id = t.tr_gr_id\n",
    "LEFT JOIN lifetime_segment AS li ON u.lt_gr_id = li.lt_gr_id;\n",
    "\"\"\""
   ]
  },
  {
   "cell_type": "code",
   "execution_count": 4,
   "id": "9b2a7839",
   "metadata": {
    "scrolled": true
   },
   "outputs": [
    {
     "data": {
      "text/html": [
       "<div>\n",
       "<style scoped>\n",
       "    .dataframe tbody tr th:only-of-type {\n",
       "        vertical-align: middle;\n",
       "    }\n",
       "\n",
       "    .dataframe tbody tr th {\n",
       "        vertical-align: top;\n",
       "    }\n",
       "\n",
       "    .dataframe thead th {\n",
       "        text-align: right;\n",
       "    }\n",
       "</style>\n",
       "<table border=\"1\" class=\"dataframe\">\n",
       "  <thead>\n",
       "    <tr style=\"text-align: right;\">\n",
       "      <th></th>\n",
       "      <th>user_id</th>\n",
       "      <th>lt_day</th>\n",
       "      <th>is_new</th>\n",
       "      <th>age</th>\n",
       "      <th>gender_segment</th>\n",
       "      <th>os_name</th>\n",
       "      <th>cpe_type_name</th>\n",
       "      <th>country</th>\n",
       "      <th>city</th>\n",
       "      <th>age_segment</th>\n",
       "      <th>traffic_segment</th>\n",
       "      <th>lifetime_segment</th>\n",
       "      <th>nps_score</th>\n",
       "      <th>nps_group</th>\n",
       "    </tr>\n",
       "  </thead>\n",
       "  <tbody>\n",
       "    <tr>\n",
       "      <th>0</th>\n",
       "      <td>A001A2</td>\n",
       "      <td>2320</td>\n",
       "      <td>старый пользователь</td>\n",
       "      <td>45.0</td>\n",
       "      <td>жен</td>\n",
       "      <td>ANDROID</td>\n",
       "      <td>SMARTPHONE</td>\n",
       "      <td>Россия</td>\n",
       "      <td>Уфа</td>\n",
       "      <td>05 45-54</td>\n",
       "      <td>04 1-5</td>\n",
       "      <td>08 36+</td>\n",
       "      <td>10</td>\n",
       "      <td>сторонники</td>\n",
       "    </tr>\n",
       "    <tr>\n",
       "      <th>1</th>\n",
       "      <td>A001WF</td>\n",
       "      <td>2344</td>\n",
       "      <td>старый пользователь</td>\n",
       "      <td>53.0</td>\n",
       "      <td>муж</td>\n",
       "      <td>ANDROID</td>\n",
       "      <td>SMARTPHONE</td>\n",
       "      <td>Россия</td>\n",
       "      <td>Киров</td>\n",
       "      <td>05 45-54</td>\n",
       "      <td>04 1-5</td>\n",
       "      <td>08 36+</td>\n",
       "      <td>10</td>\n",
       "      <td>сторонники</td>\n",
       "    </tr>\n",
       "    <tr>\n",
       "      <th>2</th>\n",
       "      <td>A003Q7</td>\n",
       "      <td>467</td>\n",
       "      <td>старый пользователь</td>\n",
       "      <td>57.0</td>\n",
       "      <td>муж</td>\n",
       "      <td>ANDROID</td>\n",
       "      <td>SMARTPHONE</td>\n",
       "      <td>Россия</td>\n",
       "      <td>Москва</td>\n",
       "      <td>06 55-64</td>\n",
       "      <td>08 20-25</td>\n",
       "      <td>06 13-24</td>\n",
       "      <td>10</td>\n",
       "      <td>сторонники</td>\n",
       "    </tr>\n",
       "    <tr>\n",
       "      <th>3</th>\n",
       "      <td>A004TB</td>\n",
       "      <td>4190</td>\n",
       "      <td>старый пользователь</td>\n",
       "      <td>44.0</td>\n",
       "      <td>жен</td>\n",
       "      <td>IOS</td>\n",
       "      <td>SMARTPHONE</td>\n",
       "      <td>Россия</td>\n",
       "      <td>РостовнаДону</td>\n",
       "      <td>04 35-44</td>\n",
       "      <td>03 0.1-1</td>\n",
       "      <td>08 36+</td>\n",
       "      <td>10</td>\n",
       "      <td>сторонники</td>\n",
       "    </tr>\n",
       "    <tr>\n",
       "      <th>4</th>\n",
       "      <td>A004XT</td>\n",
       "      <td>1163</td>\n",
       "      <td>старый пользователь</td>\n",
       "      <td>24.0</td>\n",
       "      <td>муж</td>\n",
       "      <td>ANDROID</td>\n",
       "      <td>SMARTPHONE</td>\n",
       "      <td>Россия</td>\n",
       "      <td>Рязань</td>\n",
       "      <td>02 16-24</td>\n",
       "      <td>05 5-10</td>\n",
       "      <td>08 36+</td>\n",
       "      <td>10</td>\n",
       "      <td>сторонники</td>\n",
       "    </tr>\n",
       "  </tbody>\n",
       "</table>\n",
       "</div>"
      ],
      "text/plain": [
       "  user_id  lt_day               is_new   age gender_segment  os_name  \\\n",
       "0  A001A2    2320  старый пользователь  45.0            жен  ANDROID   \n",
       "1  A001WF    2344  старый пользователь  53.0            муж  ANDROID   \n",
       "2  A003Q7     467  старый пользователь  57.0            муж  ANDROID   \n",
       "3  A004TB    4190  старый пользователь  44.0            жен      IOS   \n",
       "4  A004XT    1163  старый пользователь  24.0            муж  ANDROID   \n",
       "\n",
       "  cpe_type_name country          city age_segment traffic_segment  \\\n",
       "0    SMARTPHONE  Россия           Уфа    05 45-54          04 1-5   \n",
       "1    SMARTPHONE  Россия         Киров    05 45-54          04 1-5   \n",
       "2    SMARTPHONE  Россия        Москва    06 55-64        08 20-25   \n",
       "3    SMARTPHONE  Россия  РостовнаДону    04 35-44        03 0.1-1   \n",
       "4    SMARTPHONE  Россия        Рязань    02 16-24         05 5-10   \n",
       "\n",
       "  lifetime_segment  nps_score   nps_group  \n",
       "0           08 36+         10  сторонники  \n",
       "1           08 36+         10  сторонники  \n",
       "2         06 13-24         10  сторонники  \n",
       "3           08 36+         10  сторонники  \n",
       "4           08 36+         10  сторонники  "
      ]
     },
     "execution_count": 4,
     "metadata": {},
     "output_type": "execute_result"
    }
   ],
   "source": [
    "# сохраняем в датафрейм\n",
    "df = pd.read_sql(query, engine)\n",
    "df.head()"
   ]
  },
  {
   "cell_type": "code",
   "execution_count": 5,
   "id": "4d5502f7",
   "metadata": {},
   "outputs": [],
   "source": [
    "# сохраняем датафрейм как CSV-файл\n",
    "df.to_csv('telecomm_csi_tableau.csv', index=False)"
   ]
  },
  {
   "cell_type": "markdown",
   "id": "0240b858",
   "metadata": {},
   "source": [
    "**Дашборд и графики для презентации выполняем в Tableau Public**"
   ]
  }
 ],
 "metadata": {
  "ExecuteTimeLog": [
   {
    "duration": 752,
    "start_time": "2021-10-03T17:40:52.731Z"
   },
   {
    "duration": 20,
    "start_time": "2021-10-03T17:40:53.486Z"
   },
   {
    "duration": 4,
    "start_time": "2021-10-03T17:41:04.638Z"
   },
   {
    "duration": 461,
    "start_time": "2021-10-03T17:41:04.912Z"
   },
   {
    "duration": 284,
    "start_time": "2021-10-03T17:41:05.376Z"
   },
   {
    "duration": 574,
    "start_time": "2021-10-06T07:55:05.029Z"
   },
   {
    "duration": 6,
    "start_time": "2021-10-06T07:55:05.605Z"
   },
   {
    "duration": 3,
    "start_time": "2021-10-06T07:55:14.685Z"
   },
   {
    "duration": 406,
    "start_time": "2021-10-06T07:55:15.522Z"
   },
   {
    "duration": 67,
    "start_time": "2021-10-06T07:55:15.929Z"
   },
   {
    "duration": 840,
    "start_time": "2021-10-07T07:54:04.647Z"
   },
   {
    "duration": 10,
    "start_time": "2021-10-07T07:54:05.490Z"
   },
   {
    "duration": 4,
    "start_time": "2021-10-07T07:54:05.544Z"
   },
   {
    "duration": 391,
    "start_time": "2021-10-07T07:54:06.237Z"
   },
   {
    "duration": 293,
    "start_time": "2021-10-07T07:54:06.654Z"
   },
   {
    "duration": 578,
    "start_time": "2023-02-06T07:33:28.558Z"
   },
   {
    "duration": 35,
    "start_time": "2023-02-06T07:33:31.413Z"
   },
   {
    "duration": 3,
    "start_time": "2023-02-06T07:33:36.115Z"
   },
   {
    "duration": 5010,
    "start_time": "2023-02-06T07:33:39.090Z"
   },
   {
    "duration": 3,
    "start_time": "2023-02-06T07:41:24.843Z"
   },
   {
    "duration": 529,
    "start_time": "2023-02-06T07:41:26.693Z"
   },
   {
    "duration": 4,
    "start_time": "2023-02-06T07:43:03.391Z"
   },
   {
    "duration": 533,
    "start_time": "2023-02-06T07:43:05.910Z"
   },
   {
    "duration": 3,
    "start_time": "2023-02-06T07:44:47.965Z"
   },
   {
    "duration": 3642,
    "start_time": "2023-02-06T07:44:50.793Z"
   },
   {
    "duration": 147,
    "start_time": "2023-02-06T07:45:18.898Z"
   },
   {
    "duration": 3,
    "start_time": "2023-02-06T07:46:40.152Z"
   },
   {
    "duration": 511,
    "start_time": "2023-02-06T07:46:42.516Z"
   },
   {
    "duration": 10,
    "start_time": "2023-02-06T07:46:49.632Z"
   },
   {
    "duration": 5,
    "start_time": "2023-02-06T07:47:30.141Z"
   },
   {
    "duration": 5,
    "start_time": "2023-02-06T07:47:37.440Z"
   },
   {
    "duration": 6,
    "start_time": "2023-02-06T07:47:54.970Z"
   },
   {
    "duration": 85,
    "start_time": "2023-02-06T07:48:20.101Z"
   },
   {
    "duration": 7,
    "start_time": "2023-02-06T07:48:23.764Z"
   },
   {
    "duration": 6,
    "start_time": "2023-02-06T07:49:18.988Z"
   },
   {
    "duration": 12,
    "start_time": "2023-02-06T07:49:26.197Z"
   },
   {
    "duration": 7,
    "start_time": "2023-02-06T07:49:35.080Z"
   },
   {
    "duration": 3,
    "start_time": "2023-02-06T08:42:22.704Z"
   },
   {
    "duration": 3467,
    "start_time": "2023-02-06T08:42:25.697Z"
   },
   {
    "duration": 3,
    "start_time": "2023-02-06T08:49:08.523Z"
   },
   {
    "duration": 423,
    "start_time": "2023-02-06T08:49:13.282Z"
   },
   {
    "duration": 3,
    "start_time": "2023-02-06T08:49:47.332Z"
   },
   {
    "duration": 389,
    "start_time": "2023-02-06T08:49:49.877Z"
   },
   {
    "duration": 3,
    "start_time": "2023-02-06T08:50:16.264Z"
   },
   {
    "duration": 416,
    "start_time": "2023-02-06T08:50:18.468Z"
   },
   {
    "duration": 10,
    "start_time": "2023-02-06T08:52:04.397Z"
   },
   {
    "duration": 723,
    "start_time": "2023-02-06T08:52:07.076Z"
   },
   {
    "duration": 2,
    "start_time": "2023-02-06T08:55:41.773Z"
   },
   {
    "duration": 758,
    "start_time": "2023-02-06T08:55:44.814Z"
   },
   {
    "duration": 4,
    "start_time": "2023-02-06T08:56:02.820Z"
   },
   {
    "duration": 3,
    "start_time": "2023-02-06T08:56:21.930Z"
   },
   {
    "duration": 4116,
    "start_time": "2023-02-06T08:56:31.418Z"
   },
   {
    "duration": 3,
    "start_time": "2023-02-06T08:58:34.273Z"
   },
   {
    "duration": 2285,
    "start_time": "2023-02-06T08:58:37.708Z"
   },
   {
    "duration": 3,
    "start_time": "2023-02-06T08:59:03.771Z"
   },
   {
    "duration": 2244,
    "start_time": "2023-02-06T08:59:06.268Z"
   },
   {
    "duration": 4,
    "start_time": "2023-02-06T09:04:38.502Z"
   },
   {
    "duration": 2952,
    "start_time": "2023-02-06T09:04:41.021Z"
   },
   {
    "duration": 2,
    "start_time": "2023-02-06T09:21:01.730Z"
   },
   {
    "duration": 6291,
    "start_time": "2023-02-06T09:21:19.224Z"
   },
   {
    "duration": 610,
    "start_time": "2023-02-06T09:22:22.739Z"
   },
   {
    "duration": 139,
    "start_time": "2023-02-06T09:39:54.762Z"
   },
   {
    "duration": 1442,
    "start_time": "2023-02-06T09:49:27.263Z"
   },
   {
    "duration": 20,
    "start_time": "2023-02-06T09:49:41.800Z"
   },
   {
    "duration": 2860,
    "start_time": "2023-02-06T09:56:39.939Z"
   },
   {
    "duration": 4357,
    "start_time": "2023-02-06T09:56:57.417Z"
   },
   {
    "duration": 97,
    "start_time": "2023-02-06T09:57:05.174Z"
   },
   {
    "duration": 94,
    "start_time": "2023-02-06T09:57:42.552Z"
   },
   {
    "duration": 153,
    "start_time": "2023-02-06T09:58:20.930Z"
   },
   {
    "duration": 139,
    "start_time": "2023-02-06T09:58:32.171Z"
   },
   {
    "duration": 4,
    "start_time": "2023-02-06T10:13:38.394Z"
   },
   {
    "duration": 5,
    "start_time": "2023-02-06T10:13:41.877Z"
   },
   {
    "duration": 3,
    "start_time": "2023-02-06T10:19:12.048Z"
   },
   {
    "duration": 5699,
    "start_time": "2023-02-06T10:19:17.986Z"
   },
   {
    "duration": 693,
    "start_time": "2023-02-06T10:19:27.165Z"
   },
   {
    "duration": 713,
    "start_time": "2023-02-06T10:22:41.382Z"
   },
   {
    "duration": 562,
    "start_time": "2023-02-06T15:15:41.259Z"
   },
   {
    "duration": 35,
    "start_time": "2023-02-06T15:15:41.822Z"
   },
   {
    "duration": 4,
    "start_time": "2023-02-06T15:15:41.859Z"
   },
   {
    "duration": 5835,
    "start_time": "2023-02-06T15:15:41.864Z"
   },
   {
    "duration": 6940,
    "start_time": "2023-02-06T15:15:47.701Z"
   },
   {
    "duration": 6195,
    "start_time": "2023-02-06T15:20:41.673Z"
   },
   {
    "duration": 7939,
    "start_time": "2023-02-06T15:34:06.561Z"
   },
   {
    "duration": 610,
    "start_time": "2023-02-06T15:40:54.252Z"
   },
   {
    "duration": 12,
    "start_time": "2023-02-06T15:40:54.864Z"
   },
   {
    "duration": 8,
    "start_time": "2023-02-06T15:40:54.879Z"
   },
   {
    "duration": 6079,
    "start_time": "2023-02-06T15:40:54.888Z"
   },
   {
    "duration": 6952,
    "start_time": "2023-02-06T15:41:00.970Z"
   },
   {
    "duration": 574,
    "start_time": "2023-02-06T15:50:58.001Z"
   },
   {
    "duration": 10,
    "start_time": "2023-02-06T15:50:58.577Z"
   },
   {
    "duration": 3,
    "start_time": "2023-02-06T15:50:58.589Z"
   },
   {
    "duration": 5903,
    "start_time": "2023-02-06T15:50:58.594Z"
   },
   {
    "duration": 102,
    "start_time": "2023-02-06T15:51:04.499Z"
   },
   {
    "duration": 16,
    "start_time": "2023-02-06T15:51:20.862Z"
   },
   {
    "duration": 6074,
    "start_time": "2023-02-06T15:53:12.394Z"
   },
   {
    "duration": 573,
    "start_time": "2023-02-06T16:35:23.052Z"
   },
   {
    "duration": 15,
    "start_time": "2023-02-06T16:35:23.628Z"
   },
   {
    "duration": 5,
    "start_time": "2023-02-06T16:35:23.645Z"
   },
   {
    "duration": 5568,
    "start_time": "2023-02-06T16:35:23.652Z"
   },
   {
    "duration": 5345,
    "start_time": "2023-02-06T16:35:29.222Z"
   },
   {
    "duration": 502,
    "start_time": "2023-02-11T09:59:45.109Z"
   },
   {
    "duration": 9,
    "start_time": "2023-02-11T09:59:45.612Z"
   },
   {
    "duration": 3,
    "start_time": "2023-02-11T09:59:45.622Z"
   },
   {
    "duration": 4586,
    "start_time": "2023-02-11T09:59:45.626Z"
   },
   {
    "duration": 4369,
    "start_time": "2023-02-11T09:59:50.213Z"
   },
   {
    "duration": 542,
    "start_time": "2023-02-12T06:12:11.620Z"
   },
   {
    "duration": 10,
    "start_time": "2023-02-12T06:12:12.165Z"
   },
   {
    "duration": 8,
    "start_time": "2023-02-12T06:12:12.177Z"
   },
   {
    "duration": 5362,
    "start_time": "2023-02-12T06:12:12.193Z"
   },
   {
    "duration": 4642,
    "start_time": "2023-02-12T06:12:17.557Z"
   },
   {
    "duration": 515,
    "start_time": "2023-02-14T05:44:49.308Z"
   },
   {
    "duration": 9,
    "start_time": "2023-02-14T05:44:49.825Z"
   },
   {
    "duration": 4,
    "start_time": "2023-02-14T05:44:49.835Z"
   },
   {
    "duration": 5670,
    "start_time": "2023-02-14T05:44:49.840Z"
   },
   {
    "duration": 5291,
    "start_time": "2023-02-14T05:44:55.512Z"
   }
  ],
  "kernelspec": {
   "display_name": "Python 3 (ipykernel)",
   "language": "python",
   "name": "python3"
  },
  "language_info": {
   "codemirror_mode": {
    "name": "ipython",
    "version": 3
   },
   "file_extension": ".py",
   "mimetype": "text/x-python",
   "name": "python",
   "nbconvert_exporter": "python",
   "pygments_lexer": "ipython3",
   "version": "3.9.13"
  },
  "toc": {
   "base_numbering": 1,
   "nav_menu": {},
   "number_sections": true,
   "sideBar": true,
   "skip_h1_title": true,
   "title_cell": "Table of Contents",
   "title_sidebar": "Contents",
   "toc_cell": false,
   "toc_position": {},
   "toc_section_display": true,
   "toc_window_display": false
  }
 },
 "nbformat": 4,
 "nbformat_minor": 5
}
